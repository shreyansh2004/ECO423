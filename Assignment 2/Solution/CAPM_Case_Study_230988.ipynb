{
  "cells": [
    {
      "cell_type": "code",
      "execution_count": null,
      "id": "4bb560fb",
      "metadata": {
        "id": "4bb560fb"
      },
      "outputs": [],
      "source": [
        "import numpy as np\n",
        "import pandas as pd"
      ]
    },
    {
      "cell_type": "markdown",
      "id": "27c86a49",
      "metadata": {
        "id": "27c86a49"
      },
      "source": [
        "# Q1\n",
        "Which stock do you believe provides the most attractive investment\n",
        "opportunity for the Cavalier Fund? Why?"
      ]
    },
    {
      "cell_type": "code",
      "execution_count": null,
      "id": "a65fe6c3",
      "metadata": {
        "id": "a65fe6c3",
        "outputId": "b44de5b9-0143-4d50-d635-a0ef1148f5ea"
      },
      "outputs": [
        {
          "data": {
            "text/html": [
              "<div>\n",
              "<style scoped>\n",
              "    .dataframe tbody tr th:only-of-type {\n",
              "        vertical-align: middle;\n",
              "    }\n",
              "\n",
              "    .dataframe tbody tr th {\n",
              "        vertical-align: top;\n",
              "    }\n",
              "\n",
              "    .dataframe thead th {\n",
              "        text-align: right;\n",
              "    }\n",
              "</style>\n",
              "<table border=\"1\" class=\"dataframe\">\n",
              "  <thead>\n",
              "    <tr style=\"text-align: right;\">\n",
              "      <th></th>\n",
              "      <th>Stock</th>\n",
              "      <th>Annual Avg. Returns</th>\n",
              "      <th>Anticipated Returns</th>\n",
              "      <th>Annualized Volatility</th>\n",
              "      <th>Sharpe Measure</th>\n",
              "    </tr>\n",
              "  </thead>\n",
              "  <tbody>\n",
              "    <tr>\n",
              "      <th>0</th>\n",
              "      <td>Delphi</td>\n",
              "      <td>24.790</td>\n",
              "      <td>9.1</td>\n",
              "      <td>24.801</td>\n",
              "      <td>0.905205</td>\n",
              "    </tr>\n",
              "    <tr>\n",
              "      <th>1</th>\n",
              "      <td>Groupon</td>\n",
              "      <td>-9.760</td>\n",
              "      <td>9.3</td>\n",
              "      <td>67.320</td>\n",
              "      <td>-0.179739</td>\n",
              "    </tr>\n",
              "    <tr>\n",
              "      <th>2</th>\n",
              "      <td>Kellogg</td>\n",
              "      <td>11.390</td>\n",
              "      <td>4.6</td>\n",
              "      <td>14.600</td>\n",
              "      <td>0.619863</td>\n",
              "    </tr>\n",
              "    <tr>\n",
              "      <th>3</th>\n",
              "      <td>Kinross Gold</td>\n",
              "      <td>-2.015</td>\n",
              "      <td>8.4</td>\n",
              "      <td>65.000</td>\n",
              "      <td>-0.067000</td>\n",
              "    </tr>\n",
              "  </tbody>\n",
              "</table>\n",
              "</div>"
            ],
            "text/plain": [
              "          Stock  Annual Avg. Returns  Anticipated Returns  \\\n",
              "0        Delphi               24.790                  9.1   \n",
              "1       Groupon               -9.760                  9.3   \n",
              "2       Kellogg               11.390                  4.6   \n",
              "3  Kinross Gold               -2.015                  8.4   \n",
              "\n",
              "   Annualized Volatility  Sharpe Measure  \n",
              "0                 24.801        0.905205  \n",
              "1                 67.320       -0.179739  \n",
              "2                 14.600        0.619863  \n",
              "3                 65.000       -0.067000  "
            ]
          },
          "execution_count": 73,
          "metadata": {},
          "output_type": "execute_result"
        }
      ],
      "source": [
        "# rates and standard deviations are in percentage\n",
        "# calculating Sharpe Measure\n",
        "risk_free_rate = 2.34\n",
        "stock_data = pd.DataFrame({\n",
        "    'Stock': [\"Delphi\", \"Groupon\", \"Kellogg\", \"Kinross Gold\"],\n",
        "    'Annual Avg. Returns' : [24.79, -9.76, 11.39, -2.015],\n",
        "    'Anticipated Returns': [9.1, 9.3, 4.6, 8.4],\n",
        "    'Annualized Volatility': [24.801, 67.32, 14.6, 65.0]\n",
        "})\n",
        "stock_data[\"Sharpe Measure\"] = stock_data[\"Annual Avg. Returns\"] - risk_free_rate\n",
        "stock_data[\"Sharpe Measure\"] /= stock_data[\"Annualized Volatility\"]\n",
        "stock_data"
      ]
    },
    {
      "cell_type": "markdown",
      "id": "d946a649",
      "metadata": {
        "id": "d946a649"
      },
      "source": [
        "# Q2\n",
        "How  would  you  characterise  the  riskiness  of  the  different  stocks  being\n",
        "considered  by  the  Cavalier  Fund?  Which  stock  do  you  believe  is  the\n",
        "riskiest, and which is the least risky?"
      ]
    },
    {
      "cell_type": "code",
      "execution_count": null,
      "id": "16cca6e5",
      "metadata": {
        "id": "16cca6e5",
        "outputId": "e112b064-bcf1-47cd-c8d6-769469a419e4"
      },
      "outputs": [
        {
          "data": {
            "text/html": [
              "<div>\n",
              "<style scoped>\n",
              "    .dataframe tbody tr th:only-of-type {\n",
              "        vertical-align: middle;\n",
              "    }\n",
              "\n",
              "    .dataframe tbody tr th {\n",
              "        vertical-align: top;\n",
              "    }\n",
              "\n",
              "    .dataframe thead th {\n",
              "        text-align: right;\n",
              "    }\n",
              "</style>\n",
              "<table border=\"1\" class=\"dataframe\">\n",
              "  <thead>\n",
              "    <tr style=\"text-align: right;\">\n",
              "      <th></th>\n",
              "      <th>Stock</th>\n",
              "      <th>Annualized Volatility</th>\n",
              "      <th>Volatility Comment</th>\n",
              "    </tr>\n",
              "  </thead>\n",
              "  <tbody>\n",
              "    <tr>\n",
              "      <th>0</th>\n",
              "      <td>Delphi</td>\n",
              "      <td>24.801</td>\n",
              "      <td>Moderate Volatility</td>\n",
              "    </tr>\n",
              "    <tr>\n",
              "      <th>1</th>\n",
              "      <td>Groupon</td>\n",
              "      <td>67.320</td>\n",
              "      <td>Extremely volatile; highest risk</td>\n",
              "    </tr>\n",
              "    <tr>\n",
              "      <th>2</th>\n",
              "      <td>Kellogg</td>\n",
              "      <td>14.600</td>\n",
              "      <td>Very low volatility; most stable</td>\n",
              "    </tr>\n",
              "    <tr>\n",
              "      <th>3</th>\n",
              "      <td>Kinross Gold</td>\n",
              "      <td>65.000</td>\n",
              "      <td>Very high volatility; risky commodity play</td>\n",
              "    </tr>\n",
              "  </tbody>\n",
              "</table>\n",
              "</div>"
            ],
            "text/plain": [
              "          Stock  Annualized Volatility  \\\n",
              "0        Delphi                 24.801   \n",
              "1       Groupon                 67.320   \n",
              "2       Kellogg                 14.600   \n",
              "3  Kinross Gold                 65.000   \n",
              "\n",
              "                           Volatility Comment  \n",
              "0                         Moderate Volatility  \n",
              "1            Extremely volatile; highest risk  \n",
              "2            Very low volatility; most stable  \n",
              "3  Very high volatility; risky commodity play  "
            ]
          },
          "execution_count": 74,
          "metadata": {},
          "output_type": "execute_result"
        }
      ],
      "source": [
        "stock_data['Volatility Comment'] = [\"Moderate Volatility\",\n",
        "                                    \"Extremely volatile; highest risk\",\n",
        "                                    \"Very low volatility; most stable\",\n",
        "                                    \"Very high volatility; risky commodity play\"]\n",
        "stock_data[['Stock', 'Annualized Volatility', 'Volatility Comment']]"
      ]
    },
    {
      "cell_type": "code",
      "execution_count": null,
      "id": "eef26153",
      "metadata": {
        "id": "eef26153",
        "outputId": "4e32ca88-0fa0-4be2-e6f8-7da35d68615c"
      },
      "outputs": [
        {
          "data": {
            "text/html": [
              "<div>\n",
              "<style scoped>\n",
              "    .dataframe tbody tr th:only-of-type {\n",
              "        vertical-align: middle;\n",
              "    }\n",
              "\n",
              "    .dataframe tbody tr th {\n",
              "        vertical-align: top;\n",
              "    }\n",
              "\n",
              "    .dataframe thead th {\n",
              "        text-align: right;\n",
              "    }\n",
              "</style>\n",
              "<table border=\"1\" class=\"dataframe\">\n",
              "  <thead>\n",
              "    <tr style=\"text-align: right;\">\n",
              "      <th></th>\n",
              "      <th>Stock</th>\n",
              "      <th>Beta</th>\n",
              "      <th>Beta Comment</th>\n",
              "    </tr>\n",
              "  </thead>\n",
              "  <tbody>\n",
              "    <tr>\n",
              "      <th>0</th>\n",
              "      <td>Delphi</td>\n",
              "      <td>1.29</td>\n",
              "      <td>Higher than market; more volatile</td>\n",
              "    </tr>\n",
              "    <tr>\n",
              "      <th>1</th>\n",
              "      <td>Groupon</td>\n",
              "      <td>1.44</td>\n",
              "      <td>Very sensitive to market; high systematic risk</td>\n",
              "    </tr>\n",
              "    <tr>\n",
              "      <th>2</th>\n",
              "      <td>Kellogg</td>\n",
              "      <td>0.54</td>\n",
              "      <td>Low market risk; defensive stock</td>\n",
              "    </tr>\n",
              "    <tr>\n",
              "      <th>3</th>\n",
              "      <td>Kinross Gold</td>\n",
              "      <td>0.31</td>\n",
              "      <td>Less sensitive to market</td>\n",
              "    </tr>\n",
              "  </tbody>\n",
              "</table>\n",
              "</div>"
            ],
            "text/plain": [
              "          Stock  Beta                                    Beta Comment\n",
              "0        Delphi  1.29               Higher than market; more volatile\n",
              "1       Groupon  1.44  Very sensitive to market; high systematic risk\n",
              "2       Kellogg  0.54                Low market risk; defensive stock\n",
              "3  Kinross Gold  0.31                        Less sensitive to market"
            ]
          },
          "execution_count": 75,
          "metadata": {},
          "output_type": "execute_result"
        }
      ],
      "source": [
        "stock_data[\"Beta\"] = [1.29, 1.44, 0.54, 0.31]\n",
        "stock_data[\"Beta Comment\"] = [\"Higher than market; more volatile\",\n",
        "                              \"Very sensitive to market; high systematic risk\",\n",
        "                              \"Low market risk; defensive stock\",\n",
        "                              \"Less sensitive to market\"\n",
        "]\n",
        "stock_data[['Stock', \"Beta\", \"Beta Comment\"]]"
      ]
    },
    {
      "cell_type": "code",
      "execution_count": null,
      "id": "8b643d48",
      "metadata": {
        "id": "8b643d48",
        "outputId": "5b6d16af-973a-460d-fe8c-6f9f3474d7f5"
      },
      "outputs": [
        {
          "data": {
            "text/html": [
              "<div>\n",
              "<style scoped>\n",
              "    .dataframe tbody tr th:only-of-type {\n",
              "        vertical-align: middle;\n",
              "    }\n",
              "\n",
              "    .dataframe tbody tr th {\n",
              "        vertical-align: top;\n",
              "    }\n",
              "\n",
              "    .dataframe thead th {\n",
              "        text-align: right;\n",
              "    }\n",
              "</style>\n",
              "<table border=\"1\" class=\"dataframe\">\n",
              "  <thead>\n",
              "    <tr style=\"text-align: right;\">\n",
              "      <th></th>\n",
              "      <th>Beta</th>\n",
              "      <th>Financial Strength</th>\n",
              "      <th>Industry Risk</th>\n",
              "      <th>Business Risk</th>\n",
              "    </tr>\n",
              "  </thead>\n",
              "  <tbody>\n",
              "    <tr>\n",
              "      <th>0</th>\n",
              "      <td>1.29</td>\n",
              "      <td>Moderate (Baa2 Rating)</td>\n",
              "      <td>Moderate Risk (Automotive)</td>\n",
              "      <td>Moderate Business Risk</td>\n",
              "    </tr>\n",
              "    <tr>\n",
              "      <th>1</th>\n",
              "      <td>1.44</td>\n",
              "      <td>No Rating</td>\n",
              "      <td>Very High Risk (Internet)</td>\n",
              "      <td>High Business Risk</td>\n",
              "    </tr>\n",
              "    <tr>\n",
              "      <th>2</th>\n",
              "      <td>0.54</td>\n",
              "      <td>High(Baa2 Rathing)</td>\n",
              "      <td>Low Risk (Food)</td>\n",
              "      <td>Low Business Risk</td>\n",
              "    </tr>\n",
              "    <tr>\n",
              "      <th>3</th>\n",
              "      <td>0.31</td>\n",
              "      <td>Ba1 Rating</td>\n",
              "      <td>High Risk (Mining)</td>\n",
              "      <td>Very High Business Risk</td>\n",
              "    </tr>\n",
              "  </tbody>\n",
              "</table>\n",
              "</div>"
            ],
            "text/plain": [
              "   Beta      Financial Strength               Industry Risk  \\\n",
              "0  1.29  Moderate (Baa2 Rating)  Moderate Risk (Automotive)   \n",
              "1  1.44               No Rating   Very High Risk (Internet)   \n",
              "2  0.54      High(Baa2 Rathing)             Low Risk (Food)   \n",
              "3  0.31              Ba1 Rating          High Risk (Mining)   \n",
              "\n",
              "             Business Risk  \n",
              "0   Moderate Business Risk  \n",
              "1       High Business Risk  \n",
              "2        Low Business Risk  \n",
              "3  Very High Business Risk  "
            ]
          },
          "execution_count": 86,
          "metadata": {},
          "output_type": "execute_result"
        }
      ],
      "source": [
        "stock_data['Financial Strength'] = [\"Moderate (Baa2 Rating)\",\n",
        "                                    \"No Rating\",\n",
        "                                    \"High(Baa2 Rathing)\",\n",
        "                                    \"Ba1 Rating\"]\n",
        "stock_data['Industry Risk'] = [\"Moderate Risk (Automotive)\",\n",
        "                               \"Very High Risk (Internet)\",\n",
        "                               \"Low Risk (Food)\",\n",
        "                               \"High Risk (Mining)\"]\n",
        "\n",
        "stock_data['Business Risk'] = [\"Moderate Business Risk\",\n",
        "                                 \"High Business Risk\",\n",
        "                                 \"Low Business Risk\",\n",
        "                                 \"Very High Business Risk\"]\n",
        "stock_data[['Beta', 'Financial Strength', 'Industry Risk', 'Business Risk']]"
      ]
    },
    {
      "cell_type": "markdown",
      "id": "0d1965b5",
      "metadata": {
        "id": "0d1965b5"
      },
      "source": [
        "# Q3\n",
        "How does portfolio diversification affect your characterisation of risk for\n",
        "the stocks?"
      ]
    },
    {
      "cell_type": "markdown",
      "id": "7fb2f5bc",
      "metadata": {
        "id": "7fb2f5bc"
      },
      "source": [
        "# Q4\n",
        "Kramer argues that the returns associated with a 50-50 weighted portfolio\n",
        "of Groupon and Kinross Gold have a lower standard deviation than those\n",
        "associated with either Groupon or Kinross Gold stock alone. Is that true?"
      ]
    },
    {
      "cell_type": "code",
      "execution_count": null,
      "id": "46565e38",
      "metadata": {
        "id": "46565e38",
        "outputId": "2a86be54-ac7d-4b76-f1c4-c0ae68f8fed9"
      },
      "outputs": [
        {
          "name": "stdout",
          "output_type": "stream",
          "text": [
            "\n",
            "Groupon Volatility: 0.6788\n",
            "Kinross Volatility: 0.6545\n",
            "Combined Volatility: 0.5294\n"
          ]
        }
      ],
      "source": [
        "data = pd.read_excel('CAPM_Case_Study_Exhibits.xlsx', sheet_name='Exhibit 2')\n",
        "\n",
        "Delphi = np.array(data['Unnamed: 2'][4:66].values.astype(float))\n",
        "Kellogg = np.array(data['Exhibit 2'][4:66].values.astype(float))\n",
        "Groupon = np.array(data['Unnamed: 3'][4:66].values.astype(float))\n",
        "Kinross = np.array(data['Unnamed: 5'][4:66].values.astype(float))\n",
        "SnP500 = np.array(data['Unnamed: 6'][4:66].values.astype(float))\n",
        "\n",
        "combined = (Groupon + Kinross) / 2\n",
        "# Calculating volatility for Groupon, Kinross and Combined\n",
        "print(f\"\\nGroupon Volatility: {np.sqrt(12)*np.std(Groupon, ddof=1):.4f}\")\n",
        "print(f\"Kinross Volatility: {np.sqrt(12)*np.std(Kinross, ddof=1):.4f}\")\n",
        "print(f\"Combined Volatility: {np.sqrt(12)*np.std(combined, ddof=1):.4f}\")\n"
      ]
    },
    {
      "cell_type": "code",
      "execution_count": null,
      "id": "9e38ed0d",
      "metadata": {
        "id": "9e38ed0d",
        "outputId": "541d4113-7a16-480e-ece8-c899b03e468b"
      },
      "outputs": [
        {
          "name": "stdout",
          "output_type": "stream",
          "text": [
            "Correlation between Groupon and Kinross : 0.2613\n"
          ]
        }
      ],
      "source": [
        "print(f\"Correlation between Groupon and Kinross : {np.corrcoef(Groupon, Kinross)[0,1]:.4f}\")"
      ]
    },
    {
      "cell_type": "markdown",
      "id": "09e4457f",
      "metadata": {
        "id": "09e4457f"
      },
      "source": [
        "# Q5\n",
        "What is the argument for Kinross Gold?"
      ]
    },
    {
      "cell_type": "markdown",
      "id": "de09aab9",
      "metadata": {
        "id": "de09aab9"
      },
      "source": [
        "# Q6\n",
        "How should investors price risk? How should they trade off the relation\n",
        "between risk and return?"
      ]
    },
    {
      "cell_type": "markdown",
      "id": "7f26185e",
      "metadata": {
        "id": "7f26185e"
      },
      "source": [
        "# Q7\n",
        "What is the risk-adjusted benchmark return on the S&P 500 portfolio? On\n",
        "the proposed stocks?"
      ]
    },
    {
      "cell_type": "code",
      "execution_count": null,
      "id": "6ca2ce34",
      "metadata": {
        "id": "6ca2ce34",
        "outputId": "c4159101-6998-45c5-9a8e-45364b8e7cd8"
      },
      "outputs": [
        {
          "data": {
            "text/html": [
              "<div>\n",
              "<style scoped>\n",
              "    .dataframe tbody tr th:only-of-type {\n",
              "        vertical-align: middle;\n",
              "    }\n",
              "\n",
              "    .dataframe tbody tr th {\n",
              "        vertical-align: top;\n",
              "    }\n",
              "\n",
              "    .dataframe thead th {\n",
              "        text-align: right;\n",
              "    }\n",
              "</style>\n",
              "<table border=\"1\" class=\"dataframe\">\n",
              "  <thead>\n",
              "    <tr style=\"text-align: right;\">\n",
              "      <th></th>\n",
              "      <th>Stock</th>\n",
              "      <th>Anticipated Returns</th>\n",
              "      <th>Beta</th>\n",
              "      <th>Benchmark Returns</th>\n",
              "      <th>alpha</th>\n",
              "    </tr>\n",
              "  </thead>\n",
              "  <tbody>\n",
              "    <tr>\n",
              "      <th>0</th>\n",
              "      <td>Delphi</td>\n",
              "      <td>9.1</td>\n",
              "      <td>1.29</td>\n",
              "      <td>10.08</td>\n",
              "      <td>-0.98</td>\n",
              "    </tr>\n",
              "    <tr>\n",
              "      <th>1</th>\n",
              "      <td>Groupon</td>\n",
              "      <td>9.3</td>\n",
              "      <td>1.44</td>\n",
              "      <td>10.98</td>\n",
              "      <td>-1.68</td>\n",
              "    </tr>\n",
              "    <tr>\n",
              "      <th>2</th>\n",
              "      <td>Kellogg</td>\n",
              "      <td>4.6</td>\n",
              "      <td>0.54</td>\n",
              "      <td>5.58</td>\n",
              "      <td>-0.98</td>\n",
              "    </tr>\n",
              "    <tr>\n",
              "      <th>3</th>\n",
              "      <td>Kinross Gold</td>\n",
              "      <td>8.4</td>\n",
              "      <td>0.31</td>\n",
              "      <td>4.20</td>\n",
              "      <td>4.20</td>\n",
              "    </tr>\n",
              "  </tbody>\n",
              "</table>\n",
              "</div>"
            ],
            "text/plain": [
              "          Stock  Anticipated Returns  Beta  Benchmark Returns  alpha\n",
              "0        Delphi                  9.1  1.29              10.08  -0.98\n",
              "1       Groupon                  9.3  1.44              10.98  -1.68\n",
              "2       Kellogg                  4.6  0.54               5.58  -0.98\n",
              "3  Kinross Gold                  8.4  0.31               4.20   4.20"
            ]
          },
          "execution_count": 94,
          "metadata": {},
          "output_type": "execute_result"
        }
      ],
      "source": [
        "# Finding benchmark returns for each stock using CAPM\n",
        "MPR = 12 - 6\n",
        "risk_free_rate = 2.34\n",
        "stock_data['Benchmark Returns'] = stock_data['Beta'] * (MPR) + risk_free_rate\n",
        "stock_data['alpha'] = stock_data['Anticipated Returns'] - stock_data['Benchmark Returns']\n",
        "stock_data[['Stock', 'Anticipated Returns', 'Beta', 'Benchmark Returns', 'alpha']]"
      ]
    },
    {
      "cell_type": "markdown",
      "id": "1814b667",
      "metadata": {
        "id": "1814b667"
      },
      "source": [
        "# Q8\n",
        "How should Nickerson think about picking stocks for the Cavalier Fund?"
      ]
    },
    {
      "cell_type": "code",
      "execution_count": null,
      "id": "ce445268",
      "metadata": {
        "id": "ce445268",
        "outputId": "5f95cb7f-71ca-4b00-c604-bf4b76d6cc10"
      },
      "outputs": [
        {
          "data": {
            "text/html": [
              "<div>\n",
              "<style scoped>\n",
              "    .dataframe tbody tr th:only-of-type {\n",
              "        vertical-align: middle;\n",
              "    }\n",
              "\n",
              "    .dataframe tbody tr th {\n",
              "        vertical-align: top;\n",
              "    }\n",
              "\n",
              "    .dataframe thead th {\n",
              "        text-align: right;\n",
              "    }\n",
              "</style>\n",
              "<table border=\"1\" class=\"dataframe\">\n",
              "  <thead>\n",
              "    <tr style=\"text-align: right;\">\n",
              "      <th></th>\n",
              "      <th>Stock</th>\n",
              "      <th>Beta</th>\n",
              "      <th>Annualized Volatility</th>\n",
              "      <th>Anticipated Returns</th>\n",
              "      <th>Benchmark Returns</th>\n",
              "    </tr>\n",
              "  </thead>\n",
              "  <tbody>\n",
              "    <tr>\n",
              "      <th>0</th>\n",
              "      <td>Delphi</td>\n",
              "      <td>1.29</td>\n",
              "      <td>24.801</td>\n",
              "      <td>9.1</td>\n",
              "      <td>10.08</td>\n",
              "    </tr>\n",
              "    <tr>\n",
              "      <th>1</th>\n",
              "      <td>Groupon</td>\n",
              "      <td>1.44</td>\n",
              "      <td>67.320</td>\n",
              "      <td>9.3</td>\n",
              "      <td>10.98</td>\n",
              "    </tr>\n",
              "    <tr>\n",
              "      <th>2</th>\n",
              "      <td>Kellogg</td>\n",
              "      <td>0.54</td>\n",
              "      <td>14.600</td>\n",
              "      <td>4.6</td>\n",
              "      <td>5.58</td>\n",
              "    </tr>\n",
              "    <tr>\n",
              "      <th>3</th>\n",
              "      <td>Kinross Gold</td>\n",
              "      <td>0.31</td>\n",
              "      <td>65.000</td>\n",
              "      <td>8.4</td>\n",
              "      <td>4.20</td>\n",
              "    </tr>\n",
              "  </tbody>\n",
              "</table>\n",
              "</div>"
            ],
            "text/plain": [
              "          Stock  Beta  Annualized Volatility  Anticipated Returns  \\\n",
              "0        Delphi  1.29                 24.801                  9.1   \n",
              "1       Groupon  1.44                 67.320                  9.3   \n",
              "2       Kellogg  0.54                 14.600                  4.6   \n",
              "3  Kinross Gold  0.31                 65.000                  8.4   \n",
              "\n",
              "   Benchmark Returns  \n",
              "0              10.08  \n",
              "1              10.98  \n",
              "2               5.58  \n",
              "3               4.20  "
            ]
          },
          "execution_count": 97,
          "metadata": {},
          "output_type": "execute_result"
        }
      ],
      "source": [
        "stock_data[['Stock', 'Beta','Annualized Volatility', 'Anticipated Returns', 'Benchmark Returns']]"
      ]
    },
    {
      "cell_type": "code",
      "execution_count": null,
      "id": "76b42c02",
      "metadata": {
        "id": "76b42c02",
        "outputId": "224d1bd4-cf2a-4876-f2ff-e6875cd36509"
      },
      "outputs": [
        {
          "name": "stdout",
          "output_type": "stream",
          "text": [
            "          Stock  Anticipated Returns  Annualized Volatility  Sharpe Measure\n",
            "0        Delphi                  9.1                 24.801        0.905205\n",
            "1       Groupon                  9.3                 67.320       -0.179739\n",
            "2       Kellogg                  4.6                 14.600        0.619863\n",
            "3  Kinross Gold                  8.4                 65.000       -0.067000\n"
          ]
        },
        {
          "data": {
            "text/plain": [
              "array([[24.89247445, 17.84450341, 10.66222224,  8.08158111],\n",
              "       [17.84450341, 67.87876444, 34.07076846,  4.50672406],\n",
              "       [10.66222224, 34.07076846, 65.44504947,  5.36669672],\n",
              "       [ 8.08158111,  4.50672406,  5.36669672, 14.7246416 ]])"
            ]
          },
          "execution_count": 82,
          "metadata": {},
          "output_type": "execute_result"
        }
      ],
      "source": [
        "print(stock_data[['Stock', 'Anticipated Returns','Annualized Volatility', 'Sharpe Measure']])\n",
        "np.sqrt(np.cov((Delphi, Groupon, Kinross, Kellogg)))*100*np.sqrt(12)  # Annualized covariance matrix"
      ]
    },
    {
      "cell_type": "code",
      "execution_count": null,
      "id": "9349a3d4",
      "metadata": {
        "id": "9349a3d4"
      },
      "outputs": [],
      "source": []
    }
  ],
  "metadata": {
    "kernelspec": {
      "display_name": "Python 3",
      "language": "python",
      "name": "python3"
    },
    "language_info": {
      "codemirror_mode": {
        "name": "ipython",
        "version": 3
      },
      "file_extension": ".py",
      "mimetype": "text/x-python",
      "name": "python",
      "nbconvert_exporter": "python",
      "pygments_lexer": "ipython3",
      "version": "3.12.3"
    },
    "colab": {
      "provenance": []
    }
  },
  "nbformat": 4,
  "nbformat_minor": 5
}